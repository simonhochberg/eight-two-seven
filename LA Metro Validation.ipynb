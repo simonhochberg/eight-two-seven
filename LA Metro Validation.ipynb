{
 "cells": [
  {
   "cell_type": "markdown",
   "metadata": {},
   "source": [
    "# Validation\n",
    "\n",
    "Using outputs from <i>Los Angeles Spatial Analysis.ipynb</i>, this notebook will determine why some stops were not included in Transit-Rich Housing's layer and included in ours. The goal of this notebook is to figure out if we have made a mistake in calculating headways, or if our layer is correct."
   ]
  },
  {
   "cell_type": "code",
   "execution_count": null,
   "metadata": {},
   "outputs": [],
   "source": [
    "import pandas as pd, numpy as np, shutil, os, re\n",
    "from matplotlib import pyplot as plt\n",
    "from collections import Counter"
   ]
  },
  {
   "cell_type": "code",
   "execution_count": null,
   "metadata": {},
   "outputs": [],
   "source": [
    "# load in stops with headway and TRH comparison information and load in stops2routes data\n",
    "\n",
    "stops = pd.read_csv(\"output/Metro LA (HQT) - Transit Rich Housing comparison.csv\", index_col=0)\n",
    "stops2routes = pd.read_csv(\"LA-Metro/Metro - Los Angeles stops2routes.csv\", index_col=0)"
   ]
  },
  {
   "cell_type": "code",
   "execution_count": null,
   "metadata": {},
   "outputs": [],
   "source": [
    "# merge route_short_names onto stops\n",
    "stops = stops.merge(stops2routes, on=\"stop_id\", how=\"left\")"
   ]
  },
  {
   "cell_type": "code",
   "execution_count": null,
   "metadata": {},
   "outputs": [],
   "source": [
    "stops.head()"
   ]
  },
  {
   "cell_type": "code",
   "execution_count": null,
   "metadata": {
    "scrolled": true
   },
   "outputs": [],
   "source": [
    "stops.query(\"within == False\")[[\"stop_id\", \"stop_name\", \"route_short_names\"]]['route_short_names']"
   ]
  },
  {
   "cell_type": "code",
   "execution_count": null,
   "metadata": {
    "scrolled": true
   },
   "outputs": [],
   "source": [
    "pd.crosstab(stops['route_short_names'], stops['within'], )"
   ]
  },
  {
   "cell_type": "markdown",
   "metadata": {},
   "source": [
    "The following section examines the <i>route_short_names</i> of the routes listed for each stop. Every time a route appears, it is recorded. The goal here is to create a table that has the number of times a route appears at a stop we consider to be high-quality transit and TRH does not.\n",
    "\n",
    "This should allow us to find particular routes that TRH has omitted and we have included. From there, we can examine agency timetables for those routes, make a final determination, and evaluate our code accordingly."
   ]
  },
  {
   "cell_type": "code",
   "execution_count": null,
   "metadata": {},
   "outputs": [],
   "source": [
    "false_route_short_names = []\n",
    "for item in list(stops.query(\"within == False\")['route_short_names']):\n",
    "    false_route_short_names += item[1:-1].replace(\"'\", \"\").replace(\" \", '').split(',')\n",
    "\n",
    "true_route_short_names = []\n",
    "for item in list(stops.query(\"within == True\")['route_short_names']):\n",
    "    true_route_short_names += item[1:-1].replace(\"'\", \"\").replace(\" \", '').split(',')\n",
    "    \n",
    "all_route_short_names = []\n",
    "for item in list(stops['route_short_names']):\n",
    "    all_route_short_names += item[1:-1].replace(\"'\", \"\").replace(\" \", '').split(',')"
   ]
  },
  {
   "cell_type": "code",
   "execution_count": null,
   "metadata": {},
   "outputs": [],
   "source": [
    "false_routes = pd.DataFrame(data=dict(Counter(false_route_short_names)), index=[\"count\"]).T.reset_index()\n",
    "false_routes.rename(columns={\"index\":\"route_short_name\"}, inplace=True)\n",
    "\n",
    "true_routes = pd.DataFrame(data=dict(Counter(true_route_short_names)), index=[\"count\"]).T.reset_index()\n",
    "true_routes.rename(columns={\"index\":\"route_short_name\"}, inplace=True)\n",
    "\n",
    "all_routes = pd.DataFrame(data=dict(Counter(all_route_short_names)), index=[\"count\"]).T.reset_index()\n",
    "all_routes.rename(columns={\"index\":\"route_short_name\"}, inplace=True)"
   ]
  },
  {
   "cell_type": "code",
   "execution_count": null,
   "metadata": {},
   "outputs": [],
   "source": [
    "# merge all these count tables together\n",
    "\n",
    "route_freq = all_routes.merge(true_routes, on=\"route_short_name\", suffixes=[\"_all\", \"_true\"])\n",
    "\n",
    "route_freq = route_freq.merge(false_routes, on=\"route_short_name\")\n",
    "\n",
    "route_freq.rename(columns={\"count\":\"count_false\"}, inplace=True)\n",
    "\n",
    "route_freq['pct_true'] = route_freq['count_true'] / route_freq['count_all']\n",
    "route_freq['pct_false'] = route_freq['count_false'] / route_freq['count_all']"
   ]
  },
  {
   "cell_type": "code",
   "execution_count": null,
   "metadata": {
    "scrolled": true
   },
   "outputs": [],
   "source": [
    "route_freq.sort_values(\"pct_false\", ascending=False)"
   ]
  },
  {
   "cell_type": "code",
   "execution_count": null,
   "metadata": {},
   "outputs": [],
   "source": [
    "plt.clf()\n",
    "\n",
    "plt.figure(figsize=(10,10))\n",
    "\n",
    "plt.hist(route_freq['pct_false'], bins=20)\n",
    "\n",
    "plt.vlines(route_freq.describe()['pct_false'][\"50%\"], ymax=0, ymin=16, colors='r')\n",
    "plt.vlines(route_freq.describe()['pct_false'][\"25%\"], ymax=0, ymin=16, colors='r', linestyles='--')\n",
    "plt.vlines(route_freq.describe()['pct_false'][\"75%\"], ymax=0, ymin=16, colors='r', linestyles='--')\n",
    "\n",
    "\n",
    "plt.ylabel(\"Number of routes\")\n",
    "plt.xlabel(\"Pct. of stops ommitted from TRH\")\n",
    "plt.title(\"Metro - LA\")\n",
    "\n",
    "plt.show()"
   ]
  },
  {
   "cell_type": "markdown",
   "metadata": {},
   "source": [
    "The above visualization shows the percentage of a route's stops that are considered not high-quality transit by Transit Rich Housing but are considered high-quality transit by us.\n",
    "\n",
    "A higher percentage of a route's stops being considered to be not high quality transit is indicative of the route being considered unqualifying by Transit Rich Housing. This is also easy to remedy -- routes with high percentages of their stops excluded from Transit Rich Housing can be reevaluated manually by looking at the time table.\n",
    "\n",
    "Whole route discrepancies between us and Transit Rich Housing are where I'd think we'd be able to most quickly and easily identify any mistakes.\n",
    "\n",
    "This graph and the table from which it was produced can help us to identify routes that should be prioritized in checking our work."
   ]
  },
  {
   "cell_type": "code",
   "execution_count": null,
   "metadata": {},
   "outputs": [],
   "source": [
    "route_freq.describe()['pct_false']"
   ]
  },
  {
   "cell_type": "markdown",
   "metadata": {},
   "source": [
    "If we are to prioritize routes to double-check, here are all routes at the 75th percentile and above."
   ]
  },
  {
   "cell_type": "code",
   "execution_count": null,
   "metadata": {
    "scrolled": true
   },
   "outputs": [],
   "source": [
    "q = \"pct_false >= %s\" % str(route_freq.describe()['pct_false'][\"75%\"])\n",
    "route_freq.query(q).sort_values(\"pct_false\", ascending=False)"
   ]
  },
  {
   "cell_type": "code",
   "execution_count": null,
   "metadata": {
    "scrolled": true
   },
   "outputs": [],
   "source": [
    "q = \"pct_false >= %s\" % str(route_freq.describe()['pct_false'][\"25%\"])\n",
    "route_freq.query(q).sort_values(\"pct_false\", ascending=True)"
   ]
  },
  {
   "cell_type": "markdown",
   "metadata": {},
   "source": [
    "Let's check it against some headways."
   ]
  },
  {
   "cell_type": "code",
   "execution_count": null,
   "metadata": {},
   "outputs": [],
   "source": [
    "stops.head()"
   ]
  },
  {
   "cell_type": "markdown",
   "metadata": {},
   "source": [
    "Navigate to the agency's PDF timetables, identify a stop by name, and filter with that stop's name."
   ]
  },
  {
   "cell_type": "code",
   "execution_count": null,
   "metadata": {},
   "outputs": [],
   "source": [
    "stops[stops['stop_name'] == \"Culver City Transit Center\"]"
   ]
  },
  {
   "cell_type": "markdown",
   "metadata": {},
   "source": [
    "<p>I have checked and have confimed HQT for the following routes:\n",
    "    <ol>\n",
    "        <li><b>76</b> - the frequency of this bus alone is enough to make all of its stops qualifying.</li>\n",
    "        <li><b>96</b> - this bus doesn't have sufficient frequency, but the other routes with which it shares stops enable the stops to meet the required frequency.</li>\n",
    "        <li><b>110</b> - this bus doesn't have sufficient frequency, but the other routes with which it shares stops enable the stops to meet the required frequency</li>\n",
    "</p>"
   ]
  }
 ],
 "metadata": {
  "kernelspec": {
   "display_name": "Python 3",
   "language": "python",
   "name": "python3"
  },
  "language_info": {
   "codemirror_mode": {
    "name": "ipython",
    "version": 3
   },
   "file_extension": ".py",
   "mimetype": "text/x-python",
   "name": "python",
   "nbconvert_exporter": "python",
   "pygments_lexer": "ipython3",
   "version": "3.6.5"
  }
 },
 "nbformat": 4,
 "nbformat_minor": 2
}
