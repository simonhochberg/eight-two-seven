{
 "cells": [
  {
   "cell_type": "markdown",
   "metadata": {},
   "source": [
    "# Spatial Analysis and Comparisons of LA Metro\n",
    "This notebook will compare <a href=\"https://transitrichhousing.org\">Sasha Aicken's Transit Rich Housing</a> analysis with work done in-house."
   ]
  },
  {
   "cell_type": "code",
   "execution_count": null,
   "metadata": {},
   "outputs": [],
   "source": [
    "import fiona\n",
    "import pandas as pd, numpy as np, json\n",
    "import geopandas as gpd\n",
    "from geopandas import GeoDataFrame\n",
    "from shapely.geometry import Point\n",
    "from shapely.geometry import Polygon\n",
    "from matplotlib import pyplot as plt"
   ]
  },
  {
   "cell_type": "markdown",
   "metadata": {},
   "source": [
    "## Terner/CCI Analysis"
   ]
  },
  {
   "cell_type": "code",
   "execution_count": null,
   "metadata": {},
   "outputs": [],
   "source": [
    "stops = pd.read_csv(\"LA-Metro/Metro - Los Angeles.csv\")\n",
    "hqt_stops = pd.read_csv(\"LA-Metro/Metro - Los Angeles (HQT).csv\")\n",
    "rail_stops = pd.read_csv(\"LA-Metro/Metro - Los Angeles Rail.csv\")"
   ]
  },
  {
   "cell_type": "code",
   "execution_count": null,
   "metadata": {},
   "outputs": [],
   "source": [
    "plt.clf()\n",
    "\n",
    "plt.figure(figsize=(20,20))\n",
    "\n",
    "plt.plot(stops['stop_lon'], stops['stop_lat'], 'ok', markersize=1)\n",
    "plt.plot(hqt_stops['stop_lon'], hqt_stops['stop_lat'], 'ob', markersize=1.5)\n",
    "plt.plot(rail_stops['stop_lon'], rail_stops['stop_lat'], 'or', markersize=3.5)\n",
    "\n",
    "plt.xlabel(\"Longitude\")\n",
    "plt.ylabel(\"Latitude\")\n",
    "plt.title(\"LA Metro - HQT Bus and Rail\")\n",
    "\n",
    "plt.legend([\"All Bus\",\"Qualifying Bus\", \"Qualifying Rail\"])\n",
    "\n",
    "plt.show()"
   ]
  },
  {
   "cell_type": "markdown",
   "metadata": {},
   "source": [
    "### GeoPandas"
   ]
  },
  {
   "cell_type": "code",
   "execution_count": null,
   "metadata": {},
   "outputs": [],
   "source": [
    "crs = {'init': 'epsg:4326'}"
   ]
  },
  {
   "cell_type": "code",
   "execution_count": null,
   "metadata": {},
   "outputs": [],
   "source": [
    "# add geometry\n",
    "\n",
    "stops_geo = gpd.GeoSeries([Point(xy) for xy in zip(stops['stop_lon'], stops['stop_lat'])])\n",
    "hqt_stops_geo = gpd.GeoSeries([Point(xy) for xy in zip(hqt_stops['stop_lon'], hqt_stops['stop_lat'])])\n",
    "rail_stops_geo = gpd.GeoSeries([Point(xy) for xy in zip(rail_stops['stop_lon'], rail_stops['stop_lat'])])\n",
    "\n",
    "hqt_stops_gpd = gpd.GeoDataFrame(hqt_stops, crs=crs, geometry=hqt_stops_geo)\n",
    "rail_stops_gpd = gpd.GeoDataFrame(rail_stops, crs=crs, geometry=rail_stops_geo)\n",
    "\n",
    "hqt_stops_gpd.crs = crs\n",
    "rail_stops_gpd.crs = crs\n"
   ]
  },
  {
   "cell_type": "code",
   "execution_count": null,
   "metadata": {},
   "outputs": [],
   "source": [
    "hqt_stops_gpd = gpd.GeoDataFrame(hqt_stops, crs=crs, geometry=hqt_stops_geo)\n",
    "hqt_stops_gpd.head()"
   ]
  },
  {
   "cell_type": "markdown",
   "metadata": {},
   "source": [
    "### Station Area Buffers\n",
    "This portion of the Jupyter notebook contains the code used to calculate the size of buffers in decimal degrees (per crs). This is a crucial step in our analytical process, as takes the point feature of a transit stop and translates into a polygon. The station area polygons will be used for all future analysis and to determine the spatial impacts of the legislation.\n",
    "\n",
    "Per <a href=\"https://leginfo.legislature.ca.gov/faces/billTextClient.xhtml?bill_id=201720180SB827\">SB 827</a> Chapter 4.35.65918.5(i):\n",
    "    \n",
    "    “Transit-rich housing project” means a residential development project the parcels of which are all within a:\n",
    "       - one-half mile radius of a major transit stop* or \n",
    "       - a one-quarter mile radius of a stop on a high-quality transit bus corridor.\n",
    "<p style=\"font-size:80%;\">* <i>Major transit stop</i> means a site containing an existing rail transit station, or a ferry terminal served by either bus or rail transit service</p>\n",
    "\n"
   ]
  },
  {
   "cell_type": "code",
   "execution_count": null,
   "metadata": {},
   "outputs": [],
   "source": [
    "test_lat = hqt_stops['stop_lat'][0]\n",
    "#print(test_lat)\n",
    "\n",
    "km_in_deg = (111.11 * np.cos(np.deg2rad(test_lat)))\n",
    "km_in_deg"
   ]
  },
  {
   "cell_type": "code",
   "execution_count": null,
   "metadata": {},
   "outputs": [],
   "source": [
    "(1/111.11 * np.cos(np.deg2rad(test_lat)))*(km2mi*bufferSize)"
   ]
  },
  {
   "cell_type": "code",
   "execution_count": null,
   "metadata": {},
   "outputs": [],
   "source": [
    "km2mi*bufferSize/km_in_deg"
   ]
  },
  {
   "cell_type": "code",
   "execution_count": null,
   "metadata": {},
   "outputs": [],
   "source": [
    "km2mi = 1.60934\n",
    "\n",
    "# BUS\n",
    "bufferSize = 0.25 # in miles\n",
    "hqt_stops_gpd[\"buffer_dd\"] = (km2mi*bufferSize)/(111.11 * np.cos(np.deg2rad(hqt_stops['stop_lat'])))\n",
    "\n",
    "# RAIL\n",
    "bufferSize = 0.5 # in miles\n",
    "rail_stops_gpd['buffer_dd_hm'] = (km2mi*bufferSize)/((111.11 * np.cos(np.deg2rad(rail_stops_gpd['stop_lat']))))\n",
    "\n",
    "bufferSize = 0.25 # in miles\n",
    "# rail_stops_gpd['buffer_dd_qm'] = 1/((111.11 * np.cos(np.deg2rad(hqt_stops['stop_lat'])))/(km2mi*bufferSize))\n",
    "rail_stops_gpd['buffer_dd_qm'] = (km2mi*bufferSize)/(111.11 * np.cos(np.deg2rad(hqt_stops['stop_lat']))) \n",
    "#rail_stops_gpd['buffer_dd_qm'] = (1/111.11 * np.cos(np.deg2rad(rail_stops_gpd['stop_lat'])))*(km2mi*bufferSize) \n",
    "\n"
   ]
  },
  {
   "cell_type": "code",
   "execution_count": null,
   "metadata": {
    "scrolled": true
   },
   "outputs": [],
   "source": [
    "rail_stops_gpd.head()"
   ]
  },
  {
   "cell_type": "code",
   "execution_count": null,
   "metadata": {},
   "outputs": [],
   "source": [
    "# create station-area buffers\n",
    "\n",
    "# Bus\n",
    "hqt_stops_buffers = gpd.GeoDataFrame(hqt_stops_gpd)\n",
    "hqt_stops_buffers.crs = crs\n",
    "\n",
    "hqt_stops_buffers['geometry'] = hqt_stops_buffers.apply(lambda x: x.geometry.buffer(x.buffer_dd), axis=1)\n",
    "hqt_stops_buffers['dissolve_dummy'] = np.zeros(len(hqt_stops_buffers)) # value to use in dissolve\n",
    "\n",
    "\n",
    "# Rail half-mile buffers\n",
    "rail_stops_hm_buffers = gpd.GeoDataFrame(rail_stops_gpd)\n",
    "rail_stops_hm_buffers.crs = crs\n",
    "\n",
    "rail_stops_hm_buffers['geometry'] = rail_stops_hm_buffers.apply(lambda x: x.geometry.buffer(x.buffer_dd_hm), axis=1)\n",
    "rail_stops_hm_buffers['dissolve_dummy'] = np.zeros(len(rail_stops_hm_buffers)) # value to use in dissolve\n",
    "\n",
    "# Rail quarter-mile buffers\n",
    "rail_stops_qm_buffers = gpd.GeoDataFrame(rail_stops_gpd)\n",
    "rail_stops_qm_buffers.crs = crs\n",
    "\n",
    "rail_stops_qm_buffers['geometry'] = rail_stops_qm_buffers.apply(lambda x: x.geometry.buffer(x.buffer_dd_qm), axis=1)\n",
    "rail_stops_qm_buffers['dissolve_dummy'] = np.zeros(len(rail_stops_qm_buffers)) # value to use in dissolve\n",
    "\n",
    "# dissolve\n",
    "hqt_dissolve = hqt_stops_buffers[['dissolve_dummy', 'geometry']].dissolve(by=\"dissolve_dummy\")\n",
    "rail_hm_dissolve = rail_stops_hm_buffers[['dissolve_dummy', 'geometry']].dissolve(by=\"dissolve_dummy\")\n",
    "rail_qm_dissolve = rail_stops_qm_buffers[['dissolve_dummy', 'geometry']].dissolve(by=\"dissolve_dummy\")\n",
    "\n",
    "# Assign Coordinate Reference Systems to dissolved GPD\n",
    "\n",
    "hqt_dissolve.crs = crs\n",
    "rail_hm_dissolve.crs = crs\n",
    "rail_qm_dissolve.crs = crs"
   ]
  },
  {
   "cell_type": "code",
   "execution_count": null,
   "metadata": {},
   "outputs": [],
   "source": [
    "fig, ax = plt.subplots(figsize=(10,10))\n",
    "#plt.xlim(-118.5,-118)\n",
    "#plt.ylim(33.7,34.2)\n",
    "ax = hqt_dissolve.plot(ax=ax, color='none', edgecolor='k', linewidth=0.5)\n",
    "plt.plot(hqt_stops['stop_lon'], hqt_stops['stop_lat'], 'or')\n",
    "# ax = rail_dissolve.plot(ax=ax, color='blue', edgecolor='k', alpha=0.3)\n",
    "#our_layer2.plot(ax=ax, color='yellow', edgecolor='k', alpha=0.5)\n",
    "\n",
    "plt.legend([\"Bus\"])\n",
    "plt.title(\"LA Metro - Impacted\")\n",
    "plt.xlabel(\"Longitude\")\n",
    "plt.ylabel(\"Latitude\")\n",
    "\n",
    "plt.show()"
   ]
  },
  {
   "cell_type": "code",
   "execution_count": null,
   "metadata": {},
   "outputs": [],
   "source": [
    "fig, ax = plt.subplots(figsize=(10,10))\n",
    "#plt.xlim(-118.5,-118)\n",
    "#plt.ylim(33.7,34.2)\n",
    "ax = rail_hm_dissolve.plot(ax=ax, color='none', edgecolor='k', linewidth=0.5)\n",
    "ax = rail_qm_dissolve.plot(ax=ax, color='none', edgecolor='r', linewidth=0.5)\n",
    "\n",
    "#plt.plot(hqt_stops['stop_lon'], hqt_stops['stop_lat'], 'or')\n",
    "# ax = rail_dissolve.plot(ax=ax, color='blue', edgecolor='k', alpha=0.3)\n",
    "#our_layer2.plot(ax=ax, color='yellow', edgecolor='k', alpha=0.5)\n",
    "\n",
    "plt.legend([\"Bus\"])\n",
    "plt.title(\"LA Metro - Impacted\")\n",
    "plt.xlabel(\"Longitude\")\n",
    "plt.ylabel(\"Latitude\")\n",
    "\n",
    "plt.show()"
   ]
  },
  {
   "cell_type": "markdown",
   "metadata": {},
   "source": [
    "## Transit Rich Housing\n",
    "<i>This code was taken and adapted from Jared Nolan's https://github.com/simonhochberg/Upzoning/blob/master/Transit_Rich_Housing_comp.ipynb.</i>"
   ]
  },
  {
   "cell_type": "code",
   "execution_count": null,
   "metadata": {},
   "outputs": [],
   "source": [
    "with open('transit-rich-housing/no_rise_shape.json') as json_data:\n",
    "    no_rise_data = json.load(json_data)\n",
    "with open('transit-rich-housing/low_rise_shape.json') as json_data:\n",
    "    lo_rise_data = json.load(json_data)\n",
    "with open('transit-rich-housing/high_rise_shape.json') as json_data:\n",
    "    hi_rise_data = json.load(json_data)"
   ]
  },
  {
   "cell_type": "code",
   "execution_count": null,
   "metadata": {
    "scrolled": true
   },
   "outputs": [],
   "source": [
    "no_rise_trh_shapes = gpd.GeoDataFrame()\n",
    "\n",
    "for j in list(range(1,len(no_rise_data))):\n",
    "    lat = []\n",
    "    lon = []\n",
    "    for i in list(range(0,len(no_rise_data[j]))):\n",
    "        lat.append(no_rise_data[j][i]['lat'])\n",
    "        lon.append(no_rise_data[j][i]['lng'])\n",
    "\n",
    "    poly1 = list(zip(lon, lat))\n",
    "\n",
    "    shape = gpd.GeoSeries([Polygon(poly1)])\n",
    "    shape = gpd.GeoDataFrame({'geometry': shape,\"crs\":crs})\n",
    "    \n",
    "    \n",
    "    \n",
    "    no_rise_trh_shapes = gpd.GeoDataFrame(pd.concat([no_rise_trh_shapes, shape], ignore_index=True))\n",
    "    \n",
    "lo_rise_trh_shapes = gpd.GeoDataFrame()\n",
    "\n",
    "for j in list(range(1,len(lo_rise_data))):\n",
    "    lat = []\n",
    "    lon = []\n",
    "    for i in list(range(0,len(lo_rise_data[j]))):\n",
    "        lat.append(lo_rise_data[j][i]['lat'])\n",
    "        lon.append(lo_rise_data[j][i]['lng'])\n",
    "\n",
    "    poly1 = list(zip(lon, lat))\n",
    "\n",
    "    shape = gpd.GeoSeries([Polygon(poly1)])\n",
    "    shape = gpd.GeoDataFrame({'geometry': shape,\"crs\":crs})\n",
    "    \n",
    "    \n",
    "    \n",
    "    lo_rise_trh_shapes = gpd.GeoDataFrame(pd.concat([lo_rise_trh_shapes, shape], ignore_index=True))\n",
    "\n",
    "hi_rise_trh_shapes = gpd.GeoDataFrame()\n",
    "\n",
    "for j in list(range(1,len(hi_rise_data))):\n",
    "    lat = []\n",
    "    lon = []\n",
    "    for i in list(range(0,len(hi_rise_data[j]))):\n",
    "        lat.append(hi_rise_data[j][i]['lat'])\n",
    "        lon.append(hi_rise_data[j][i]['lng'])\n",
    "\n",
    "    poly1 = list(zip(lon, lat))\n",
    "\n",
    "    shape = gpd.GeoSeries([Polygon(poly1)])\n",
    "    shape = gpd.GeoDataFrame({'geometry': shape,\"crs\":crs})\n",
    "    \n",
    "    \n",
    "    \n",
    "    hi_rise_trh_shapes = gpd.GeoDataFrame(pd.concat([hi_rise_trh_shapes, shape], ignore_index=True))"
   ]
  },
  {
   "cell_type": "code",
   "execution_count": null,
   "metadata": {},
   "outputs": [],
   "source": [
    "# Assign Coordinate Reference Systems\n",
    "\n",
    "no_rise_trh_shapes.crs = crs\n",
    "lo_rise_trh_shapes.crs = crs\n",
    "hi_rise_trh_shapes.crs = crs"
   ]
  },
  {
   "cell_type": "code",
   "execution_count": null,
   "metadata": {},
   "outputs": [],
   "source": [
    "fig, ax = plt.subplots(figsize=(20,20))\n",
    "plt.xlim(-118.5,-118)\n",
    "plt.ylim(33.7,34.2)\n",
    "ax = no_rise_trh_shapes.plot(ax=ax, color='yellow', edgecolor='k', alpha=0.5)\n",
    "ax = lo_rise_trh_shapes.plot(ax=ax, color='blue', edgecolor='k', alpha=0.5)\n",
    "ax = hi_rise_trh_shapes.plot(ax=ax, color='green', edgecolor='k', alpha=0.5)\n",
    "#our_layer2.plot(ax=ax, color='yellow', edgecolor='k', alpha=0.5)\n",
    "\n",
    "plt.legend([\"Bus\"])\n",
    "plt.title(\"Transit Rich Housing\")\n",
    "plt.xlabel(\"Longitude\")\n",
    "plt.ylabel(\"Latitude\")\n",
    "\n",
    "plt.show()"
   ]
  },
  {
   "cell_type": "markdown",
   "metadata": {},
   "source": [
    "## Comparison"
   ]
  },
  {
   "cell_type": "code",
   "execution_count": null,
   "metadata": {},
   "outputs": [],
   "source": [
    "fig, ax = plt.subplots(figsize=(20,20))\n",
    "plt.xlim(-118.5,-118)\n",
    "plt.ylim(33.7,34.2)\n",
    "#ax = no_rise_trh_shapes.plot(ax=ax, color='yellow', edgecolor='k', alpha=0.5)\n",
    "#ax = lo_rise_trh_shapes.plot(ax=ax, color='blue', edgecolor='k', alpha=0.5)\n",
    "ax = hi_rise_trh_shapes.plot(ax=ax, color='blue', edgecolor='k', alpha=0.5)\n",
    "# ax = lo_rise_trh_shapes.plot(ax=ax, color='blue', edgecolor='k', alpha=0.5)\n",
    "ax = rail_qm_dissolve.plot(ax=ax, color='red', edgecolor='k', alpha=0.5)\n",
    "# ax = rail_hm_dissolve.plot(ax=ax, color='yellow', edgecolor='k', alpha=0.5)\n",
    "\n",
    "#plt.plot(rail_stops_gpd['stop_lon'], rail_stops_gpd['stop_lat'], 'ok')\n",
    "#our_layer2.plot(ax=ax, color='yellow', edgecolor='k', alpha=0.5)\n",
    "\n",
    "plt.legend([\"TRH\", \"SSH\"])\n",
    "plt.title(\"Transit Rich Housing vs. In-House\\n1/4 mile by rail\")\n",
    "plt.xlabel(\"Longitude\")\n",
    "plt.ylabel(\"Latitude\")\n",
    "\n",
    "plt.show()"
   ]
  },
  {
   "cell_type": "markdown",
   "metadata": {},
   "source": [
    "<p>In the above graph, <span style=\"color:blue\"><b>blue circles</b></span> represent the quarter-mile buffers around rail stations as defined by <i>Transit-Rich Housing</i>.</p><br>\n",
    "<p>In the above graph, <span style=\"color:red\"><b>red circles</b></span> represent the quarter-mile buffers around rail stations as defined by <i>our own analysis</i>.</p><br>"
   ]
  },
  {
   "cell_type": "code",
   "execution_count": null,
   "metadata": {},
   "outputs": [],
   "source": [
    "fig, ax = plt.subplots(figsize=(20,20))\n",
    "plt.xlim(-118.5,-118)\n",
    "plt.ylim(33.7,34.2)\n",
    "#ax = no_rise_trh_shapes.plot(ax=ax, color='yellow', edgecolor='k', alpha=0.5)\n",
    "#ax = lo_rise_trh_shapes.plot(ax=ax, color='blue', edgecolor='k', alpha=0.5)\n",
    "ax = lo_rise_trh_shapes.plot(ax=ax, color='blue', edgecolor='k', alpha=0.5)\n",
    "# ax = lo_rise_trh_shapes.plot(ax=ax, color='blue', edgecolor='k', alpha=0.5)\n",
    "ax = rail_hm_dissolve.plot(ax=ax, color='red', edgecolor='k', alpha=0.5)\n",
    "# ax = rail_hm_dissolve.plot(ax=ax, color='yellow', edgecolor='k', alpha=0.5)\n",
    "\n",
    "#plt.plot(rail_stops_gpd['stop_lon'], rail_stops_gpd['stop_lat'], 'ok')\n",
    "#our_layer2.plot(ax=ax, color='yellow', edgecolor='k', alpha=0.5)\n",
    "\n",
    "plt.legend([\"TRH\", \"SSH\"])\n",
    "plt.title(\"Transit Rich Housing vs. In-House\\n1/2 mile by rail\")\n",
    "plt.xlabel(\"Longitude\")\n",
    "plt.ylabel(\"Latitude\")\n",
    "\n",
    "plt.show()"
   ]
  },
  {
   "cell_type": "markdown",
   "metadata": {},
   "source": [
    "<p>In the above graph, <span style=\"color:blue\"><b>blue circles</b></span> represent the half-mile buffers around rail stations as defined by <i>Transit-Rich Housing</i>.</p><br>\n",
    "<p>In the above graph, <span style=\"color:red\"><b>red circles</b></span> represent the half-mile buffers around rail stations as defined by <i>our own analysis</i>.</p><br>"
   ]
  },
  {
   "cell_type": "code",
   "execution_count": null,
   "metadata": {},
   "outputs": [],
   "source": [
    "fig, ax = plt.subplots(figsize=(20,20))\n",
    "plt.xlim(-118.5,-118)\n",
    "plt.ylim(33.7,34.2)\n",
    "#ax = no_rise_trh_shapes.plot(ax=ax, color='yellow', edgecolor='k', alpha=0.5)\n",
    "#ax = lo_rise_trh_shapes.plot(ax=ax, color='blue', edgecolor='k', alpha=0.5)\n",
    "#ax = no_rise_trh_shapes.plot(ax=ax, color='blue', edgecolor='k', alpha=0.5)\n",
    "# ax = lo_rise_trh_shapes.plot(ax=ax, color='blue', edgecolor='k', alpha=0.5)\n",
    "ax = hqt_dissolve.plot(ax=ax, color='red', edgecolor='k', alpha=0.5)\n",
    "# ax = rail_hm_dissolve.plot(ax=ax, color='yellow', edgecolor='k', alpha=0.5)\n",
    "\n",
    "#plt.plot(hqt_stops['stop_lon'], hqt_stops['stop_lat'], 'ok')\n",
    "#our_layer2.plot(ax=ax, color='yellow', edgecolor='k', alpha=0.5)\n",
    "\n",
    "plt.legend([\"TRH\", \"SSH\"])\n",
    "plt.title(\"Transit Rich Housing vs. In-House\\n1/4 mile by bus\")\n",
    "plt.xlabel(\"Longitude\")\n",
    "plt.ylabel(\"Latitude\")\n",
    "\n",
    "plt.show()"
   ]
  },
  {
   "cell_type": "markdown",
   "metadata": {},
   "source": [
    "### Point-in-polygon analysis\n",
    "I am using point-in-polygon analysis to figure out which stops we're counting that Transit-Rich Housing is excluding and vice versa. This will hopefully explain the discrepancies in our approaches and help us better validate our data.\n",
    "\n",
    "In doing so, I will execute the following steps:\n",
    "\n",
    "<ol>\n",
    "    <li><b>Dissolve a Transit-Rich Housing layer into a single multi-polygon.</b>\n",
    "<br>\n",
    "<ul>\n",
    "    <li>Add a dummy variable for use in the dissolve process.</li>\n",
    "    <li>Perform a dissolve and create a 1-row GeoDataFrame</li>\n",
    "    </ul> \n",
    "    </li>\n",
    "<br>\n",
    "<li><b>Use the within() function to create a DataFrame of indicating whether a stop is contained within the TRH layer.</b>\n",
    "<br>    \n",
    "<ul>\n",
    "    <li>Store the geometry of the dissolved layer in a new variable: <i>poly</i></li>\n",
    "    <li>Perform the within() function and save results to a new dataframe: <i>within_results</i></li>\n",
    "    </ul>\n",
    "    </li>\n",
    "<br>\n",
    "    <li><b>Join results of point-in-polygon analysis to <i>hqt_stops</i> DataFrame for future evaluation</b>\n",
    "<br>    \n",
    "<ul>\n",
    "    <li>Identify relevant columns to save.</li>\n",
    "    <li>Join <i>within_results</i> to <i>hqt_stops</i>.</li>\n",
    "    <li>Plot</li>\n",
    "    </ul>\n",
    "    </li>\n",
    "</ol>"
   ]
  },
  {
   "cell_type": "code",
   "execution_count": null,
   "metadata": {},
   "outputs": [],
   "source": [
    "# STEP 1: dissolve a Transit-Rich Housing layer into a single multi-polygon\n",
    "\n",
    "# add a dummy variable\n",
    "no_rise_trh_shapes['dissolve_dummy'] = np.zeros(len(no_rise_trh_shapes)) # value to use in dissolve\n",
    "\n",
    "# dissolve\n",
    "no_rise_dissolve = no_rise_trh_shapes[pd.isnull(no_rise_trh_shapes['geometry']) == False].dissolve(by=\"dissolve_dummy\")"
   ]
  },
  {
   "cell_type": "code",
   "execution_count": null,
   "metadata": {},
   "outputs": [],
   "source": [
    "# STEP 2: using within() for point-in-polygon\n",
    "\n",
    "# store geometry of TRH layer in a new variable\n",
    "poly = no_rise_dissolve['geometry'][0]\n",
    "poly"
   ]
  },
  {
   "cell_type": "code",
   "execution_count": null,
   "metadata": {},
   "outputs": [],
   "source": [
    "# use within() to evaluate whether or not a stop is located within the transit-rich housing layer\n",
    "\n",
    "within_results = pd.DataFrame(hqt_stops_gpd[['stop_id','geometry']].within(poly), columns=[\"within\"])\n",
    "within_results.head()"
   ]
  },
  {
   "cell_type": "code",
   "execution_count": null,
   "metadata": {},
   "outputs": [],
   "source": [
    "cols2keep = ['stop_id', 'stop_name', 'stop_lon',\n",
    "       'stop_lat', 'am_pk_dir0', 'am_pk_dir1', 'pm_pk_dir0', 'pm_pk_dir1',\n",
    "       'wkdy_dir0', 'wkdy_dir1', 'sat_dir0', 'sat_dir1', 'sun_dir0',\n",
    "       'sun_dir1','within']"
   ]
  },
  {
   "cell_type": "code",
   "execution_count": null,
   "metadata": {},
   "outputs": [],
   "source": [
    "hqt_stops_comp = hqt_stops.join(within_results)[cols2keep]"
   ]
  },
  {
   "cell_type": "code",
   "execution_count": null,
   "metadata": {},
   "outputs": [],
   "source": [
    "plt.clf()\n",
    "\n",
    "plt.figure(figsize=(15,15))\n",
    "\n",
    "plt.plot(hqt_stops_comp[hqt_stops_comp['within'] == True]['stop_lon'], hqt_stops_comp[hqt_stops_comp['within'] == True]['stop_lat'], \"ob\", markersize=0.7)\n",
    "plt.plot(hqt_stops_comp[hqt_stops_comp['within'] == False]['stop_lon'], hqt_stops_comp[hqt_stops_comp['within'] == False]['stop_lat'], \"or\", markersize=0.7)\n",
    "\n",
    "plt.legend([\"Included (per TRH)\", \"Excluded (per TRH)\"])\n",
    "\n",
    "plt.xlabel(\"Longitude\")\n",
    "plt.ylabel(\"Latitude\")\n",
    "plt.title(\"Qualifying LA Metro Stops:\\nComparison between Transit-Rich Housing and Terner\")\n",
    "\n",
    "\n",
    "plt.show()"
   ]
  },
  {
   "cell_type": "code",
   "execution_count": null,
   "metadata": {},
   "outputs": [],
   "source": [
    "list(hqt_stops_comp['within'].value_counts() / len(hqt_stops_comp))"
   ]
  },
  {
   "cell_type": "code",
   "execution_count": null,
   "metadata": {},
   "outputs": [],
   "source": [
    "plt.clf()\n",
    "\n",
    "plt.figure(figsize=(10,10))\n",
    "\n",
    "plt.pie(list(hqt_stops_comp['within'].value_counts() / len(hqt_stops_comp)), labels=['Not in TRH (59%)', 'In TRH (41%)'], colors=['r', 'b'])\n",
    "\n",
    "\n",
    "plt.legend([\"Not in Transit-Rich Housing\", \"In Transit-Rich Housing\"])\n",
    "plt.title(\"Comparing Our Results with Transit-Rich Housing\")\n",
    "\n",
    "plt.show()"
   ]
  },
  {
   "cell_type": "code",
   "execution_count": null,
   "metadata": {},
   "outputs": [],
   "source": [
    "# export hqt_stops_comp to look into the individual stops\n",
    "\n",
    "hqt_stops_comp.to_csv(\"output/LA Metro h\")"
   ]
  }
 ],
 "metadata": {
  "kernelspec": {
   "display_name": "Python 3",
   "language": "python",
   "name": "python3"
  },
  "language_info": {
   "codemirror_mode": {
    "name": "ipython",
    "version": 3
   },
   "file_extension": ".py",
   "mimetype": "text/x-python",
   "name": "python",
   "nbconvert_exporter": "python",
   "pygments_lexer": "ipython3",
   "version": "3.6.5"
  }
 },
 "nbformat": 4,
 "nbformat_minor": 2
}
