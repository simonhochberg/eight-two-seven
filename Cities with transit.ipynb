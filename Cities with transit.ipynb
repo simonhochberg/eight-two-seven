{
 "cells": [
  {
   "cell_type": "code",
   "execution_count": 1,
   "metadata": {},
   "outputs": [],
   "source": [
    "import pandas as pd, numpy as np"
   ]
  },
  {
   "cell_type": "code",
   "execution_count": 2,
   "metadata": {},
   "outputs": [],
   "source": [
    "df = pd.read_csv('CA_cities_transit.csv')"
   ]
  },
  {
   "cell_type": "code",
   "execution_count": 6,
   "metadata": {},
   "outputs": [],
   "source": [
    "cities = list(df['NAME'].unique())"
   ]
  },
  {
   "cell_type": "code",
   "execution_count": 34,
   "metadata": {},
   "outputs": [],
   "source": [
    "cols = ['CITY', 'COUNTY', 'HAS_RAIL', 'HAS_FERRY', 'HAS_BUS', 'HAS_TRANSIT']"
   ]
  },
  {
   "cell_type": "code",
   "execution_count": 35,
   "metadata": {},
   "outputs": [],
   "source": [
    "cities_for_concat = []\n",
    "\n",
    "for city in cities:\n",
    "    \n",
    "    data = []\n",
    "    \n",
    "    tempDF = df[df['NAME'] == city]\n",
    "    county = list(tempDF['COUNTY'].unique())[0]\n",
    "    \n",
    "    data += [city, county]\n",
    "    \n",
    "    if sum(tempDF['HAS_RAIL']) > 0:\n",
    "        data += [1]\n",
    "    else:\n",
    "        data += [0]\n",
    "        \n",
    "    if sum(tempDF['HAS_FERRY']) > 0:\n",
    "        data += [1]\n",
    "    else:\n",
    "        data += [0]\n",
    "    \n",
    "    if sum(tempDF['HAS_BUS']) > 0:\n",
    "        data += [1]\n",
    "    else:\n",
    "        data += [0]\n",
    "    \n",
    "    if 1 in data:\n",
    "        data += [1]\n",
    "    else:\n",
    "        data += [0]\n",
    "    \n",
    "    df2 = pd.DataFrame(data=[data], columns=cols)\n",
    "    cities_for_concat.append(df2)\n",
    "results = pd.concat(cities_for_concat, ignore_index=True)"
   ]
  },
  {
   "cell_type": "code",
   "execution_count": 39,
   "metadata": {},
   "outputs": [],
   "source": [
    "results.to_csv(\"Cities_with_qualifying_transit.csv\")"
   ]
  }
 ],
 "metadata": {
  "kernelspec": {
   "display_name": "Python 3",
   "language": "python",
   "name": "python3"
  },
  "language_info": {
   "codemirror_mode": {
    "name": "ipython",
    "version": 3
   },
   "file_extension": ".py",
   "mimetype": "text/x-python",
   "name": "python",
   "nbconvert_exporter": "python",
   "pygments_lexer": "ipython3",
   "version": "3.6.4"
  }
 },
 "nbformat": 4,
 "nbformat_minor": 2
}
