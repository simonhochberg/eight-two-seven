{
 "cells": [
  {
   "cell_type": "markdown",
   "metadata": {},
   "source": [
    "# SB 827 Analysis\n",
    "## September 2018 re-work"
   ]
  },
  {
   "cell_type": "markdown",
   "metadata": {},
   "source": [
    "<h2> to do: </h2>\n",
    "<ol>\n",
    "    <li> fix interpolator </li>\n",
    "    <li> add functionality to deal with different service_ids </li>\n",
    "</ol>"
   ]
  },
  {
   "cell_type": "markdown",
   "metadata": {},
   "source": [
    "### prologue"
   ]
  },
  {
   "cell_type": "code",
   "execution_count": 49,
   "metadata": {},
   "outputs": [],
   "source": [
    "import pandas as pd, numpy as np, time, datetime, csv, os\n",
    "from matplotlib import pyplot as plt"
   ]
  },
  {
   "cell_type": "code",
   "execution_count": 2,
   "metadata": {},
   "outputs": [],
   "source": [
    "# specify agency\n",
    "path = 'gtfs/ac-transit--121/'"
   ]
  },
  {
   "cell_type": "code",
   "execution_count": 3,
   "metadata": {},
   "outputs": [
    {
     "name": "stdout",
     "output_type": "stream",
     "text": [
      "gtfs/ac-transit--121/\n",
      "-------\n",
      "AC Transit\n",
      "15388 trips\n",
      "152 routes\n",
      "5332 stops\n",
      "677042 stop times\n",
      "89 schedules\n"
     ]
    }
   ],
   "source": [
    "print(path)\n",
    "print(\"-------\")\n",
    "\n",
    "agency_name = pd.read_csv(path + 'agency.txt')['agency_name'][0]\n",
    "print(agency_name)\n",
    "\n",
    "trips = pd.read_csv(path + 'trips.txt')\n",
    "print(len(trips), \"trips\")\n",
    "\n",
    "routes = pd.read_csv(path + 'routes.txt')\n",
    "print(len(routes), \"routes\")\n",
    "\n",
    "stops = pd.read_csv(path + 'stops.txt')\n",
    "print(len(stops), \"stops\")\n",
    "\n",
    "stop_times = pd.read_csv(path + 'stop_times.txt')\n",
    "print(len(stop_times), \"stop times\")\n",
    "\n",
    "calendar = pd.read_csv(path + \"calendar.txt\")\n",
    "print(len(calendar), \"schedules\")"
   ]
  },
  {
   "cell_type": "code",
   "execution_count": 4,
   "metadata": {},
   "outputs": [],
   "source": [
    "trips2directions = dict(zip(trips['trip_id'], trips['direction_id']))\n",
    "trips2service = dict(zip(trips['trip_id'], trips['service_id']))\n",
    "trips2routes = dict(zip(trips['trip_id'], trips['route_id']))\n",
    "routes2headsigns = dict(zip(routes['route_id'], routes['route_short_name']))"
   ]
  },
  {
   "cell_type": "code",
   "execution_count": 5,
   "metadata": {},
   "outputs": [],
   "source": [
    "def minSinceMidnight(t):\n",
    "    if type(t) == str:\n",
    "        tt = t.split(':')\n",
    "        msm = (int(tt[0])*60) + int(tt[1]) + (int(tt[2])/60)\n",
    "    else:\n",
    "        msm = t\n",
    "    return msm"
   ]
  },
  {
   "cell_type": "code",
   "execution_count": 6,
   "metadata": {},
   "outputs": [],
   "source": [
    "## BROKEN\n",
    "## NEEDS REWRITING AFTER DOWNLOADING CURRENT AC TRANSIT GTFS\n",
    "\n",
    "def interpolator(trip):\n",
    "    \n",
    "    lsst = list(stop_times[stop_times['trip_id'] == trip]['arrival_time'])\n",
    "    \n",
    "    lsst = [minSinceMidnight(x) for x in lsst]\n",
    "    \n",
    "    \n",
    "    last_scheduled_time = lsst[0]\n",
    "    lst_index = 0\n",
    "    \n",
    "    values = [last_scheduled_time]\n",
    "    \n",
    "    for x in lsst[1:]:\n",
    "        if pd.isnull(x) == False:\n",
    "            idx = lsst.index(x)\n",
    "            yy = list(np.linspace(last_scheduled_time, x, num=(idx-lst_index+1)))\n",
    "\n",
    "            values += yy[1:]\n",
    "            last_scheduled_time = x\n",
    "            lst_index = idx\n",
    "        else:\n",
    "            pass\n",
    "    return values # returns linear interpolation of times"
   ]
  },
  {
   "cell_type": "markdown",
   "metadata": {},
   "source": [
    "<h2> interpolation </h2>"
   ]
  },
  {
   "cell_type": "code",
   "execution_count": 7,
   "metadata": {},
   "outputs": [
    {
     "name": "stdout",
     "output_type": "stream",
     "text": [
      "did not interpolate\n"
     ]
    }
   ],
   "source": [
    "agency_trips = list(trips['trip_id'].unique())\n",
    "\n",
    "if (sum(pd.isnull(stop_times['arrival_time']))/len(stop_times)) > 0.15:\n",
    "    allInterpolatedTimes = []\n",
    "\n",
    "    intrS = time.time()\n",
    "    for trip in agency_trips:\n",
    "        allInterpolatedTimes += interpolator(trip)\n",
    "    intrF = time.time()\n",
    "\n",
    "    print(\"interpolated \" + str(len(agency_trips)), \"trips (\"+ str(len(stop_times))+\" stops) in\", str(intrF - intrS), \"seconds\")\n",
    "else:\n",
    "    allInterpolatedTimes = [minSinceMidnight(x) for x in stop_times['arrival_time']]\n",
    "    print(\"did not interpolate\")"
   ]
  },
  {
   "cell_type": "code",
   "execution_count": 8,
   "metadata": {},
   "outputs": [],
   "source": [
    "stop_times['interpolated'] = allInterpolatedTimes\n",
    "stop_times['direction_id'] = [trips2directions[x] for x in stop_times['trip_id']]\n",
    "stop_times['service_id'] = [trips2service[x] for x in stop_times['trip_id']]"
   ]
  },
  {
   "cell_type": "code",
   "execution_count": 73,
   "metadata": {},
   "outputs": [],
   "source": [
    "# nothing important\n",
    "\n",
    "unique_stops = stop_times['stop_id'].unique()\n",
    "\n",
    "for stop in unique_stops[:1]:\n",
    "    for direction in [0,1]:\n",
    "        tempDF = stop_times[(stop_times['stop_id'] == stop) & (stop_times['direction_id'] == direction)]"
   ]
  },
  {
   "cell_type": "code",
   "execution_count": 9,
   "metadata": {},
   "outputs": [
    {
     "data": {
      "text/plain": [
       "['1808FA-D2-Weekday-03', '1808FA-D2-Saturday-01', '1808FA-D2-Sunday-01']"
      ]
     },
     "execution_count": 9,
     "metadata": {},
     "output_type": "execute_result"
    }
   ],
   "source": [
    "# DETERMINE THE MOST COMMON SCHEDULES\n",
    "\n",
    "\n",
    "pct_service = dict(trips['service_id'].value_counts()/len(trips))\n",
    "\n",
    "\n",
    "weekday_query = \"monday == 1 & tuesday == 1 & wednesday == 1 & thursday == 1 & friday == 1 & saturday == 0 & sunday == 0\"\n",
    "saturday_query = \"monday == 0 & tuesday == 0 & wednesday == 0 & thursday == 0 & friday == 0 & saturday == 1 & sunday == 0\"\n",
    "sunday_query = \"monday == 0 & tuesday == 0 & wednesday == 0 & thursday == 0 & friday == 0 & saturday == 0 & sunday == 1\"\n",
    "\n",
    "weekday_service = list(calendar.query(weekday_query)['service_id'])\n",
    "saturday_service = list(calendar.query(saturday_query)['service_id'])\n",
    "sunday_service = list(calendar.query(sunday_query)['service_id'])\n",
    "\n",
    "del weekday_query, saturday_query, sunday_query # don't need these anymore\n",
    "\n",
    "\n",
    "\n",
    "# schedules are stored in an array with an eventual length = 3\n",
    "schedules = []\n",
    "\n",
    "# index 0 = weekday\n",
    "# index 1 = saturday\n",
    "# index 2 = sunday\n",
    "\n",
    "for services in [weekday_service, saturday_service, sunday_service]:\n",
    "    boop = {k:v for (k,v) in pct_service.items() if k in services}\n",
    "    schedules.append(max(boop, key=boop.get))\n",
    "\n",
    "schedules # identifies the most common of each service type"
   ]
  },
  {
   "cell_type": "code",
   "execution_count": 10,
   "metadata": {},
   "outputs": [],
   "source": [
    "# queries to filter by various time criteria\n",
    "# strings for pd.DF.query\n",
    "\n",
    "am_peak_query = \"interpolated >= 360 and interpolated <= 600\"\n",
    "pm_peak_query = \"interpolated >= 900 and interpolated <= 1140\"\n",
    "weekday_range_query = \"interpolated >= 360 and interpolated <= 1320\"\n",
    "saturday_range_query = \"interpolated >= 480 and interpolated <= 1320\"\n",
    "sunday_range_query = \"interpolated >= 480 and interpolated <= 1320\""
   ]
  },
  {
   "cell_type": "code",
   "execution_count": 11,
   "metadata": {},
   "outputs": [],
   "source": [
    "# defines the schema for the dict object holding headways\n",
    "\n",
    "dataHolderSpec = {\n",
    "                  \"name\":'',\n",
    "                  \"longitude\":np.NaN,\n",
    "                  \"latitude\":np.NaN,\n",
    "                0: {\n",
    "                    \"served_by\": [],\n",
    "                    \"AM Peak\": np.NaN,\n",
    "                    \"PM Peak\": np.NaN,\n",
    "                    \"Weekdays\": np.NaN,\n",
    "                    \"Saturday\": np.NaN,\n",
    "                    \"Sunday\": np.NaN\n",
    "                     },\n",
    "                 1: {\n",
    "                    \"served_by\": [],\n",
    "                    \"AM Peak\": np.NaN,\n",
    "                    \"PM Peak\": np.NaN,\n",
    "                    \"Weekdays\": np.NaN,\n",
    "                    \"Saturday\": np.NaN,\n",
    "                    \"Sunday\": np.NaN\n",
    "                     }\n",
    "                 }"
   ]
  },
  {
   "cell_type": "code",
   "execution_count": 12,
   "metadata": {},
   "outputs": [],
   "source": [
    "# create dictionary object to hold information about stops\n",
    "# dictionary will be used for quick access\n",
    "\n",
    "stops_data = {}\n",
    "\n",
    "for i in range(len(stops)):\n",
    "    stop_id = stops['stop_id'][i]\n",
    "    stop_name = stops['stop_name'][i]\n",
    "    stop_lon = stops['stop_lon'][i]\n",
    "    stop_lat = stops['stop_lat'][i]\n",
    "    \n",
    "    stops_data[stop_id] = {\n",
    "        \"name\": stop_name,\n",
    "        \"lon\": stop_lon,\n",
    "        \"lat\": stop_lat\n",
    "    }"
   ]
  },
  {
   "cell_type": "markdown",
   "metadata": {},
   "source": [
    "### required fields for output:\n",
    "<ol>\n",
    "    <li>agency</li> \n",
    "    <li>stop id</li>\n",
    "    <li>stop name</li>\n",
    "    <li>stop x</li>\n",
    "    <li>stop y</li>\n",
    "    <li>am peak headway (IB)</li>\n",
    "    <li>pm peak headway (IB)</li>\n",
    "    <li>weekday headway (IB)</li>\n",
    "    <li>saturday headway (IB)</li>\n",
    "    <li>sunday headway (IB)</li>\n",
    "    <li>am peak headway (OB)</li>\n",
    "    <li>pm peak headway (OB)</li>\n",
    "    <li>weekday headway (OB)</li>\n",
    "    <li>saturday headway (OB)</li>\n",
    "    <li>sunday headway (OB)</li>\n",
    "</ol>\n",
    "\n",
    "<p><i> The CSV output for each agency should have the above attributes as unique fields. </i></p>"
   ]
  },
  {
   "cell_type": "code",
   "execution_count": 62,
   "metadata": {
    "scrolled": true
   },
   "outputs": [
    {
     "name": "stdout",
     "output_type": "stream",
     "text": [
      "\n",
      "55.28 seconds // 1000 stops // 0.0553 seconds per stop\n"
     ]
    }
   ],
   "source": [
    "# make sure directory for saving outputs exists\n",
    "if os.path.isdir(\"output\") == False:\n",
    "    os.mkdir(\"output\")\n",
    "else:\n",
    "    pass\n",
    "\n",
    "timeS = time.time() # start time, for evaluation\n",
    "\n",
    "# path for output CSV\n",
    "filename = \"output/%s_test.csv\" % agency_name\n",
    "\n",
    "# CSV writer\n",
    "f = open(filename, 'w')\n",
    "writer = csv.writer(f)\n",
    "writer.writerow([\"Stop ID\", \"Name\", \"Agency\", \"X\", \"Y\", \"OB Routes\", \"OB AM Peak\", \"OB PM Peak\", \"OB Weekday\", \"OB Saturday\", \"OB Sunday\", \"IB Routes\", \"IB AM Peak\", \"IB PM Peak\", \"IB Weekday\", \"IB Saturday\", \"IB Sunday\"])\n",
    "\n",
    "# ordered list of different time windows to evaluate\n",
    "filter_options = ['AM Peak', \"PM Peak\", 'Weekdays', 'Saturday', 'Sunday']\n",
    "\n",
    "\n",
    "# the following lists are in the same order as filter_options, so indices would be common across lists\n",
    "# e.g. filter_options[0] is \"AM Peak\" and filters[0] is am_peak_query, and filter_sched[0] is the weekday schedule, etc.\n",
    "# this feels kind of messy and we may want to play with cleaning this up\n",
    "filters = [am_peak_query, pm_peak_query, weekday_range_query, saturday_range_query, sunday_range_query]\n",
    "filter_sched = [0,0,0,1,2] # index of service_id in schedules array\n",
    "filter_time_per = [4,4,16,14,14] # number of hours in each evaluative window\n",
    "filter_crit = [16,16,48,28,28] # number of required buses during evaluative window\n",
    "\n",
    "\n",
    "# list of unique stops in that transit system\n",
    "unique_stops = stop_times['stop_id'].unique()\n",
    "\n",
    "# number of stops to evaluate\n",
    "# to run for the entire agency, set num_of_stops = len(unique_stops)\n",
    "num_of_stops = 1000\n",
    "\n",
    "for stop in unique_stops[:num_of_stops]:\n",
    "    # stop characteristics\n",
    "    \n",
    "    # add a \"0\" to stop_ids because AC Transit stores stop_ids as seven-character strings\n",
    "    # this will need to be made flexible when this is reworked to accomodate other agencies\n",
    "    if len(str(stop)) < 7:\n",
    "        stringstop = \"0\" + str(stop)\n",
    "    else:\n",
    "        stringstop = str(stop)\n",
    "        \n",
    "    sub_stops_data = stops_data[stringstop] # subset of larger dictionary to make data storage syntax cleaner\n",
    "    \n",
    "    # use defined dictionary variable from previous cell and populate with name and location info from stops DF\n",
    "    dataHolder = dataHolderSpec \n",
    "    dataHolder['name'] = sub_stops_data['name']\n",
    "    dataHolder['longitude'] = sub_stops_data['lon']\n",
    "    dataHolder['latitude'] = sub_stops_data['lat']\n",
    "    \n",
    "    for direction in [0,1]: # iterate through both directions\n",
    "        # create a DF that contains one stop in one direction\n",
    "        # ex. stop_id 300315, direction_id  0\n",
    "        tempDF = stop_times[(stop_times['stop_id'] == stop) & (stop_times['direction_id'] == direction)]\n",
    "        \n",
    "        # generate a list of all the short names for the routes that stop at the defined stop in the defined direction \n",
    "        served_by = list(set([routes2headsigns[trips2routes[x]] for x in  tempDF['trip_id']]))\n",
    "        \n",
    "        if len(served_by) == 0:\n",
    "            served_by == np.NaN\n",
    "        else:\n",
    "            pass\n",
    "        \n",
    "        #print()\n",
    "        #print(stop, sub_stops_data['name'], served_by, \"-\", direction)\n",
    "        \n",
    "        \n",
    "        for option in filter_options:\n",
    "            \n",
    "            i = filter_options.index(option) # list index for that time window\n",
    "            fltr = filters[i]\n",
    "            fltr_sched = schedules[filter_sched[i]]\n",
    "            \n",
    "            # integer for the number of buses that stop at a given stop in a given direction \n",
    "            # during the time period defined by the query expression\n",
    "            num_buses = len(tempDF[tempDF['service_id'] == fltr_sched].query(fltr))\n",
    "            \n",
    "            # right now, headway calculation doesn't work when service doesn't run for the entirety of the evaluative window\n",
    "            # ex. AC TRANSIT stop 300315, line 65 ends at 6:30pm on weekends (does not run until 10pm)\n",
    "           \n",
    "        \n",
    "            # crudely calculate average headway by dividing the total number of minutes during the defined time period\n",
    "            # by the number of buses that stopped during that time period (num_buses)\n",
    "            try:\n",
    "                headway = round(((filter_time_per[i] * 60) / num_buses), 2)\n",
    "            except ZeroDivisionError:\n",
    "                headway = np.NAN\n",
    "            \n",
    "            dataHolder[direction]['served_by'] = served_by\n",
    "            dataHolder[direction][filter_options[i]] = headway\n",
    "            \n",
    "            #print(filter_options[i] + \": \" + str(num_buses) + \" of \" + str(filter_crit[i]) + \" required. (\" + str(headway) + \" min headway)\")\n",
    "    \n",
    "    ob = dataHolder[0] # subset of larger dictionary (just outbound) to make data storage syntax cleaner\n",
    "    ib = dataHolder[1] # subset of larger dictionary (just inbound) to make data storage syntax cleaner\n",
    "    \n",
    "    # write data to CSV\n",
    "    row_contents = [stop, dataHolder['name'], agency_name, dataHolder['longitude'], dataHolder['latitude'], ', '.join(ob['served_by']), ob['AM Peak'], ob['PM Peak'], ob['Weekdays'], ob['Saturday'], ob['Sunday'], ', '.join(ib['served_by']), ib['AM Peak'], ib['PM Peak'], ib['Weekdays'], ib['Saturday'], ib['Sunday']]\n",
    "    writer.writerow(row_contents)\n",
    "timeF = time.time() # finish time, for evaluation\n",
    "f.close()\n",
    "\n",
    "print()  \n",
    "# print duration of process, number of stops, and rate\n",
    "print(str(round((timeF - timeS),2)), \"seconds //\", str(num_of_stops), \"stops //\", str(round((round((timeF - timeS),2)/num_of_stops),4)), \"seconds per stop\")"
   ]
  },
  {
   "cell_type": "code",
   "execution_count": 63,
   "metadata": {},
   "outputs": [
    {
     "name": "stdout",
     "output_type": "stream",
     "text": [
      "10.0% ghost stops\n"
     ]
    }
   ],
   "source": [
    "# way to evaluate output for GHOST STOPS (nan all the way through)\n",
    "# ghosts stops are likely served by trips with different service_IDs so we aren't seeing them\n",
    "\n",
    "\n",
    "output_path = 'output/%s_test.csv' % agency_name\n",
    "ghost_path = 'output/%s_ghosts.csv' % agency_name\n",
    "\n",
    "output = pd.read_csv(output_path) # read in output data as a new Pandas DF\n",
    "\n",
    "output.head()\n",
    "\n",
    "ghost_stops = output[(np.isnan(output['OB Weekday']) == True) & (np.isnan(output['OB Saturday']) == True) & (np.isnan(output['OB Sunday']) == True) &  (np.isnan(output['IB Weekday']) == True) & (np.isnan(output['IB Saturday']) == True) & (np.isnan(output['IB Sunday']) == True)][['Stop ID', 'Name', 'X', 'Y']].reset_index()\n",
    "\n",
    "ghost_stops.to_csv(ghost_path)\n",
    "\n",
    "pct_ghost = round((len(ghost_stops)/len(output)), 3) * 100\n",
    "\n",
    "print(str(pct_ghost) + \"% ghost stops\")\n"
   ]
  },
  {
   "cell_type": "markdown",
   "metadata": {},
   "source": [
    "### misc"
   ]
  },
  {
   "cell_type": "code",
   "execution_count": 58,
   "metadata": {},
   "outputs": [],
   "source": [
    "'''\n",
    "GUTS OF INTERPOLATOR\n",
    "\n",
    "\n",
    "\n",
    "trip_id = stop_times['trip_id'][400]\n",
    "tempDF = stop_times[stop_times['trip_id'] == trip_id]\n",
    "\n",
    "arrivalTimes = [minSinceMidnight(x) for x in list(tempDF['arrival_time'])]\n",
    "\n",
    "last_scheduled_time = arrivalTimes[0]\n",
    "lst_index = 0\n",
    "\n",
    "values = [last_scheduled_time]\n",
    "\n",
    "for x in arrivalTimes[1:]:\n",
    "    if pd.isnull(x) == False:\n",
    "        idx = arrivalTimes.index(x)\n",
    "        yy = list(np.linspace(last_scheduled_time, x, num=(idx-lst_index+1)))\n",
    "        \n",
    "        values += yy[1:]\n",
    "        last_scheduled_time = x\n",
    "        lst_index = idx\n",
    "    else:\n",
    "        pass\n",
    "'''"
   ]
  },
  {
   "cell_type": "code",
   "execution_count": 85,
   "metadata": {},
   "outputs": [
    {
     "data": {
      "text/plain": [
       "<matplotlib.figure.Figure at 0x10f74ecf8>"
      ]
     },
     "metadata": {},
     "output_type": "display_data"
    },
    {
     "data": {
      "image/png": "[encoded data removed]",
      "text/plain": [
       "<matplotlib.figure.Figure at 0x10f74e5f8>"
      ]
     },
     "metadata": {},
     "output_type": "display_data"
    }
   ],
   "source": [
    "# visualize ghost stops\n",
    "\n",
    "plot_title = \"Calculated Stops vs. Ghost Stops for %s\" % agency_name \n",
    "\n",
    "plt.clf()\n",
    "plt.figure(figsize=(12,12))\n",
    "\n",
    "plt.plot(output['X'], output['Y'], 'ok')\n",
    "plt.plot(ghost_stops['X'], ghost_stops['Y'], 'or')\n",
    "\n",
    "\n",
    "plt.legend([\"Calculated Stops\", \"Ghost Stops\"])\n",
    "plt.title(plot_title)\n",
    "plt.show()"
   ]
  }
 ],
 "metadata": {
  "kernelspec": {
   "display_name": "Python 3",
   "language": "python",
   "name": "python3"
  },
  "language_info": {
   "codemirror_mode": {
    "name": "ipython",
    "version": 3
   },
   "file_extension": ".py",
   "mimetype": "text/x-python",
   "name": "python",
   "nbconvert_exporter": "python",
   "pygments_lexer": "ipython3",
   "version": "3.6.4"
  }
 },
 "nbformat": 4,
 "nbformat_minor": 2
}
