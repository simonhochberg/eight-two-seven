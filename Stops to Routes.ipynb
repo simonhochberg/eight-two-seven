{
 "cells": [
  {
   "cell_type": "markdown",
   "metadata": {},
   "source": [
    "# Stops to Routes\n",
    "\n",
    "This notebook provides code to generate a CSV file that contains two columns:\n",
    "\n",
    "1. stop_id -- the unique identifier of the agency's stops\n",
    "2. route_short_names -- the commonly used names of the routes that service those stops"
   ]
  },
  {
   "cell_type": "code",
   "execution_count": null,
   "metadata": {},
   "outputs": [],
   "source": [
    "import pandas as pd, numpy as np, time, datetime, csv, os"
   ]
  },
  {
   "cell_type": "code",
   "execution_count": null,
   "metadata": {},
   "outputs": [],
   "source": [
    "list_of_agencies = sorted(list(os.walk('gtfs'))[0][1])"
   ]
  },
  {
   "cell_type": "code",
   "execution_count": null,
   "metadata": {},
   "outputs": [],
   "source": [
    "agency = \"gtfs/la-metro--184/\" # bus\n",
    "#agency = \"gtfs/la-metro--677/\" # rail\n",
    "# agency = \"gtfs/sfmta--60/\"\n",
    "path = agency"
   ]
  },
  {
   "cell_type": "code",
   "execution_count": null,
   "metadata": {},
   "outputs": [],
   "source": [
    "rand_agency = list_of_agencies[np.random.randint(len(list_of_agencies))]\n",
    "rand_agency\n",
    "\n",
    "path = \"gtfs/\" + rand_agency + \"/\"\n",
    "path"
   ]
  },
  {
   "cell_type": "code",
   "execution_count": null,
   "metadata": {},
   "outputs": [],
   "source": [
    "agency_name = pd.read_csv(path + 'agency.txt')['agency_name'][0]\n",
    "agency_name = agency_name.replace(\"/\",\"-\")\n",
    "print(agency_name)\n",
    "\n",
    "trips = pd.read_csv(path + 'trips.txt')\n",
    "print(len(trips), \"trips\")\n",
    "\n",
    "routes = pd.read_csv(path + 'routes.txt')\n",
    "print(len(routes), \"routes\")\n",
    "\n",
    "stops = pd.read_csv(path + 'stops.txt')\n",
    "print(len(stops), \"stops\")\n",
    "\n",
    "stop_times = pd.read_csv(path + 'stop_times.txt')\n",
    "print(len(stop_times), \"stop times\")\n",
    "\n",
    "try:\n",
    "    calendar = pd.read_csv(path + \"calendar.txt\")\n",
    "    print(len(calendar), \"schedules\")\n",
    "    calend = True\n",
    "except FileNotFoundError:\n",
    "    calend = False\n",
    "\n",
    "calendar_dates = pd.read_csv(path + \"calendar_dates.txt\")\n",
    "print(len(calendar_dates), \"exception dates\")"
   ]
  },
  {
   "cell_type": "code",
   "execution_count": null,
   "metadata": {},
   "outputs": [],
   "source": [
    "# create the fully-formed stops file\n",
    "\n",
    "trip_info = trips[[\"route_id\", \"service_id\", \"trip_id\", \"direction_id\"]]\n",
    "route_info = routes[['route_id', 'route_type', \"route_short_name\"]]\n",
    "\n",
    "trip_route_merged = trip_info.merge(route_info, on=\"route_id\")\n",
    "\n",
    "# reorder columns\n",
    "trip_route_merged = trip_route_merged[[\"trip_id\", \"route_id\", \"service_id\", \"direction_id\", \"route_type\", \"route_short_name\"]]\n",
    "\n",
    "if trips['trip_id'].dtype == object:\n",
    "\n",
    "    # create a string version of trip_id\n",
    "    stop_times['trip_id_str'] = stop_times['trip_id'].astype(\"str\")\n",
    "\n",
    "    # merge trip info onto stop_times\n",
    "    stop_times_merged = stop_times[[\"trip_id_str\", 'arrival_time', 'stop_id']].merge(trip_route_merged, right_on=\"trip_id\", left_on=\"trip_id_str\", how='left')\n",
    "        \n",
    "else:\n",
    "    \n",
    "    stop_times_merged = stop_times[[\"trip_id\", 'arrival_time', 'stop_id']].merge(trip_route_merged, right_on=\"trip_id\", left_on=\"trip_id\", how='left')\n",
    "\n",
    "# calculate a interpolated (float) time for future analysis\n",
    "\n",
    "\n",
    "'''\n",
    "if (sum(pd.isnull(stop_times_merged['arrival_time']))/len(stop_times_merged)) > 0.05:\n",
    "    agency_trips = list(stop_times.drop_duplicates('trip_id')['trip_id'])\n",
    "    allInterpolatedTimes = []\n",
    "    for trip in agency_trips:\n",
    "        allInterpolatedTimes += interpolator(trip)\n",
    "    stop_times_merged['interpolated'] = allInterpolatedTimes\n",
    "    print(\"INTERP-O-LATED\")\n",
    "else:\n",
    "    stop_times_merged['interpolated'] = [minSinceMidnight(x) for x in stop_times_merged['arrival_time']]\n",
    "'''\n",
    "stop_times_merged.head()"
   ]
  },
  {
   "cell_type": "code",
   "execution_count": null,
   "metadata": {},
   "outputs": [],
   "source": [
    "routes_at_stops = pd.DataFrame(columns=['stop_id', 'route_short_names'])\n",
    "for stop in stop_times_merged['stop_id'].unique():\n",
    "    q = \"stop_id == %s\" % str(stop)\n",
    "    route_names = list(stop_times_merged.query(q)['route_short_name'].unique())\n",
    "    routes_at_stops = pd.concat([routes_at_stops, pd.DataFrame([[stop, route_names]], columns=['stop_id', 'route_short_names'])], ignore_index=True)\n",
    "\n",
    "routes_at_stops.to_csv(\"output/v2/stops-to-routes/\" + agency_name + \" stops2routes.csv\")\n",
    "\n",
    "del q, route_names, routes_at_stops"
   ]
  }
 ],
 "metadata": {
  "kernelspec": {
   "display_name": "Python 3",
   "language": "python",
   "name": "python3"
  },
  "language_info": {
   "codemirror_mode": {
    "name": "ipython",
    "version": 3
   },
   "file_extension": ".py",
   "mimetype": "text/x-python",
   "name": "python",
   "nbconvert_exporter": "python",
   "pygments_lexer": "ipython3",
   "version": "3.6.4"
  }
 },
 "nbformat": 4,
 "nbformat_minor": 2
}
